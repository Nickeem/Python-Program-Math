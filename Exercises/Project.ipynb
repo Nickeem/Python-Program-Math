{
 "cells": [
  {
   "cell_type": "markdown",
   "metadata": {
    "collapsed": false
   },
   "source": [
    "## Question 1"
   ]
  },
  {
   "cell_type": "code",
   "execution_count": 1,
   "metadata": {
    "collapsed": false
   },
   "outputs": [
    {
     "name": "stdout",
     "output_type": "stream",
     "text": [
      "['Seychelles', 'Jamaica', 'Africa', 'Barcelona']\n",
      "['Africa', 'Barcelona', 'Jamaica', 'Seychelles']\n",
      "['Seychelles', 'Jamaica', 'Africa', 'Barcelona']\n"
     ]
    }
   ],
   "source": [
    "places = [\"Seychelles\", \"Jamaica\", \"Africa\", \"Barcelona\"]\n",
    "print (places)\n",
    "print(sorted(places)) #sorted list\n",
    "print(places) # list unsorted"
   ]
  },
  {
   "cell_type": "code",
   "execution_count": 2,
   "metadata": {
    "collapsed": false
   },
   "outputs": [
    {
     "name": "stdout",
     "output_type": "stream",
     "text": [
      "['Barcelona', 'Africa', 'Jamaica', 'Seychelles']\n",
      "['Seychelles', 'Jamaica', 'Africa', 'Barcelona']\n"
     ]
    }
   ],
   "source": [
    "places.reverse()\n",
    "print(places) #print reversed list\n",
    "places.reverse() # returns list to original order\n",
    "print(places)"
   ]
  },
  {
   "cell_type": "code",
   "execution_count": 3,
   "metadata": {
    "collapsed": false
   },
   "outputs": [
    {
     "name": "stdout",
     "output_type": "stream",
     "text": [
      "['Africa', 'Barcelona', 'Jamaica', 'Seychelles']\n"
     ]
    }
   ],
   "source": [
    "places.sort() # sorts list\n",
    "print(places)"
   ]
  },
  {
   "cell_type": "markdown",
   "metadata": {
    "collapsed": false
   },
   "source": [
    "## Question 2"
   ]
  },
  {
   "cell_type": "code",
   "execution_count": 4,
   "metadata": {
    "collapsed": false
   },
   "outputs": [
    {
     "name": "stdout",
     "output_type": "stream",
     "text": [
      "chips\n",
      "chicken\n",
      "sandwich\n",
      "fish\n"
     ]
    }
   ],
   "source": [
    "foods = (\"chips\", \"chicken\", \"sandwich\", \"fish\")\n",
    "for food in foods:\n",
    "    print(food)"
   ]
  },
  {
   "cell_type": "code",
   "execution_count": 5,
   "metadata": {
    "collapsed": false
   },
   "outputs": [
    {
     "ename": "TypeError",
     "evalue": "'tuple' object does not support item assignment",
     "output_type": "error",
     "traceback": [
      "\u001b[0;31m---------------------------------------------------------------------------\u001b[0m",
      "\u001b[0;31mTypeError\u001b[0m                                 Traceback (most recent call last)",
      "\u001b[0;32m<ipython-input-5-cc5a7d22acc7>\u001b[0m in \u001b[0;36m<module>\u001b[0;34m\u001b[0m\n\u001b[0;32m----> 1\u001b[0;31m \u001b[0mfoods\u001b[0m\u001b[0;34m[\u001b[0m\u001b[0;36m0\u001b[0m\u001b[0;34m]\u001b[0m \u001b[0;34m=\u001b[0m \u001b[0;34m\"pasta\"\u001b[0m\u001b[0;34m\u001b[0m\u001b[0;34m\u001b[0m\u001b[0m\n\u001b[0m",
      "\u001b[0;31mTypeError\u001b[0m: 'tuple' object does not support item assignment"
     ]
    }
   ],
   "source": [
    "foods[0] = \"pasta\""
   ]
  },
  {
   "cell_type": "code",
   "execution_count": 6,
   "metadata": {
    "collapsed": false
   },
   "outputs": [
    {
     "name": "stdout",
     "output_type": "stream",
     "text": [
      "chips\n",
      "pork\n",
      "sandwich\n",
      "lamb\n"
     ]
    }
   ],
   "source": [
    "# revised menu\n",
    "foods = (\"chips\", \"pork\", \"sandwich\", \"lamb\")\n",
    "for food in foods:\n",
    "    print(food)"
   ]
  },
  {
   "cell_type": "markdown",
   "metadata": {
    "collapsed": false
   },
   "source": [
    "## Question 3"
   ]
  },
  {
   "cell_type": "code",
   "execution_count": 7,
   "metadata": {
    "collapsed": false
   },
   "outputs": [
    {
     "name": "stdout",
     "output_type": "stream",
     "text": [
      "4.47213595499958\n"
     ]
    }
   ],
   "source": [
    "from math import sqrt\n",
    "a = sqrt(36) # 6\n",
    "b = sqrt(16) # 4\n",
    "\n",
    "c = sqrt(a**2-b**2)\n",
    "print(c)"
   ]
  },
  {
   "cell_type": "markdown",
   "metadata": {
    "collapsed": false
   },
   "source": [
    "# SECTION B"
   ]
  },
  {
   "cell_type": "markdown",
   "metadata": {
    "collapsed": false
   },
   "source": [
    "## Question 4"
   ]
  },
  {
   "cell_type": "code",
   "execution_count": 8,
   "metadata": {
    "collapsed": false
   },
   "outputs": [
    {
     "name": "stdout",
     "output_type": "stream",
     "text": [
      "Is John_age < Harry_age? I would say True!\n",
      "True\n",
      "Is John_age == Harry_age? I would say False!\n",
      "False\n",
      "\n",
      "Is numbers_list == [1,2,3,4,5]? I would say False!\n",
      "False\n",
      "Is numbers_list == [0,1,2,3,4,5]? I would say True!\n",
      "True\n",
      "\n",
      "Is my_favourite_fruit == 'apple'? I would say False!\n",
      "False\n",
      "Is my_favourite_fruit == 'passionfruit'? I would say True!\n",
      "True\n"
     ]
    }
   ],
   "source": [
    "John_age = 20\n",
    "Harry_age = 22\n",
    "\n",
    "print (\"Is John_age < Harry_age? I would say True!\")\n",
    "print(John_age<Harry_age)\n",
    "\n",
    "print (\"Is John_age == Harry_age? I would say False!\")\n",
    "print(John_age==Harry_age)\n",
    "\n",
    "numbers_list = [0,1,2,3,4,5]\n",
    "print (\"\\nIs numbers_list == [1,2,3,4,5]? I would say False!\")\n",
    "print(numbers_list == [1,2,3,4,5])\n",
    "print (\"Is numbers_list == [0,1,2,3,4,5]? I would say True!\")\n",
    "print(numbers_list == [0,1,2,3,4,5])\n",
    "\n",
    "my_favourite_fruit = \"passionfruit\"\n",
    "print(\"\\nIs my_favourite_fruit == 'apple'? I would say False!\")\n",
    "print(my_favourite_fruit == 'apple')\n",
    "print(\"Is my_favourite_fruit == 'passionfruit'? I would say True!\")\n",
    "print(my_favourite_fruit=='passionfruit')"
   ]
  },
  {
   "cell_type": "markdown",
   "metadata": {
    "collapsed": false
   },
   "source": [
    "## Question 5"
   ]
  },
  {
   "cell_type": "code",
   "execution_count": 9,
   "metadata": {
    "collapsed": false
   },
   "outputs": [
    {
     "name": "stdout",
     "output_type": "stream",
     "text": [
      "Is 3 not in numbers_list ? I would say False!\n",
      "False\n",
      "Is 20 not in numbers_list? I would say True!\n",
      "True\n",
      "\n",
      "Is 2 == 2 ? I would say True!\n",
      "True\n",
      "Is 2 > 2 ? I would say False!\n",
      "False\n",
      "\n",
      "Is 45 < num and 60 < num ? I would say False!\n",
      "False\n",
      "Is 45 < num or 60 < num ? I would say True!\n",
      "True\n",
      "\n",
      "Is name == 'Jerry' ? I would say True!\n",
      "True\n",
      "Is name == 'Tom' ? I would say False!\n",
      "False\n"
     ]
    }
   ],
   "source": [
    "numbers_list = [1,2,3,4,5]\n",
    "\n",
    "print (\"Is 3 not in numbers_list ? I would say False!\")\n",
    "print(3 not in numbers_list)\n",
    "print (\"Is 20 not in numbers_list? I would say True!\")\n",
    "print(20 not in numbers_list)\n",
    "\n",
    "print (\"\\nIs 2 == 2 ? I would say True!\")\n",
    "print(2==2)\n",
    "print (\"Is 2 > 2 ? I would say False!\")\n",
    "print(2>2)\n",
    "\n",
    "num = 50\n",
    "print (\"\\nIs 45 < num and 60 < num ? I would say False!\")\n",
    "print(45 < num and 60 < num)\n",
    "print (\"Is 45 < num or 60 < num ? I would say True!\")\n",
    "print(45 < num or 60 < num)\n",
    "\n",
    "name = \"Jerry\"\n",
    "print (\"\\nIs name == 'Jerry' ? I would say True!\")\n",
    "print(name == 'Jerry')\n",
    "print (\"Is name == 'Tom' ? I would say False!\")\n",
    "print(name == 'Tom')"
   ]
  },
  {
   "cell_type": "markdown",
   "metadata": {
    "collapsed": false
   },
   "source": [
    "## Question 6"
   ]
  },
  {
   "cell_type": "code",
   "execution_count": 10,
   "metadata": {
    "collapsed": false
   },
   "outputs": [
    {
     "name": "stdout",
     "output_type": "stream",
     "text": [
      "You have a baby boy, Congratlation!\n",
      "\n"
     ]
    }
   ],
   "source": [
    "# Version 1\n",
    "baby_colour = 'blue'\n",
    "if baby_colour == 'blue':\n",
    "    print('You have a baby boy, Congratlation!')\n",
    "else:\n",
    "    print()\n",
    "# Version 2\n",
    "baby_colour = 'pink'\n",
    "if baby_colour == 'blue':\n",
    "    print('You have a baby boy, Congratlation!')\n",
    "else:\n",
    "    print()\n"
   ]
  },
  {
   "cell_type": "markdown",
   "metadata": {
    "collapsed": false
   },
   "source": [
    "## Question 7"
   ]
  },
  {
   "cell_type": "code",
   "execution_count": 11,
   "metadata": {
    "collapsed": false
   },
   "outputs": [
    {
     "name": "stdout",
     "output_type": "stream",
     "text": [
      "Congratulations, you have a baby girl!\n",
      "\n",
      "\n",
      "Congratulations, you have a baby boy!\n"
     ]
    }
   ],
   "source": [
    "# Version 1\n",
    "baby_colour = 'pink'\n",
    "if baby_colour == 'pink':\n",
    "    print('Congratulations, you have a baby girl!')\n",
    "elif baby_colour == 'blue':\n",
    "    print('Congratulations, you have a baby boy!')\n",
    "\n",
    "print('\\n')\n",
    "# Version 2\n",
    "baby_colour = 'blue'\n",
    "if baby_colour == 'pink':\n",
    "    print('Congratulations, you have a baby girl!')\n",
    "elif baby_colour == 'blue':\n",
    "    print('Congratulations, you have a baby boy!')\n",
    "\n"
   ]
  },
  {
   "cell_type": "code",
   "execution_count": 12,
   "metadata": {
    "collapsed": false
   },
   "outputs": [
    {
     "name": "stdout",
     "output_type": "stream",
     "text": [
      "You received an A+\n"
     ]
    }
   ],
   "source": [
    "grade = 90\n",
    "if grade < 50:\n",
    "    print('You received a F')\n",
    "elif grade >=50 and grade <55:\n",
    "    print('You received a C')\n",
    "elif grade >=55 and grade <60:\n",
    "    print('You received a C+')\n",
    "elif grade >=60 and grade <65:\n",
    "    print('You received a B')\n",
    "elif grade >=65 and grade <70:\n",
    "    print('You received a B+')\n",
    "elif grade >=70 and grade <90:\n",
    "    print('You received an A')\n",
    "else:\n",
    "    print('You received an A+')"
   ]
  },
  {
   "cell_type": "markdown",
   "metadata": {
    "collapsed": false
   },
   "source": [
    "## Question 9"
   ]
  },
  {
   "cell_type": "code",
   "execution_count": 13,
   "metadata": {
    "collapsed": false
   },
   "outputs": [
    {
     "name": "stdout",
     "output_type": "stream",
     "text": [
      "The Dark Knight is a great film\n",
      "Zombieland is a fun movie to watch\n",
      "Scarface is a great classic\n"
     ]
    }
   ],
   "source": [
    "my_favmovies = ['The Dark Knight', 'The Gentlemen', 'Scarface', 'Zombieland']\n",
    "if 'The Dark Knight' in my_favmovies:\n",
    "    print(\"The Dark Knight is a great film\")\n",
    "if 'Zombieland' in my_favmovies:\n",
    "    print('Zombieland is a fun movie to watch')\n",
    "if 'Scarface' in my_favmovies:\n",
    "    print('Scarface is a great classic')"
   ]
  },
  {
   "cell_type": "markdown",
   "metadata": {
    "collapsed": false
   },
   "source": [
    "# Section C"
   ]
  },
  {
   "cell_type": "markdown",
   "metadata": {
    "collapsed": false
   },
   "source": [
    "## Question 10"
   ]
  },
  {
   "cell_type": "code",
   "execution_count": 14,
   "metadata": {
    "collapsed": false
   },
   "outputs": [
    {
     "name": "stdout",
     "output_type": "stream",
     "text": [
      "I am the creator of this app\n",
      "Hello Sean, Hope you enjoy the game!\n",
      "Hello Jay, Hope you enjoy the game!\n",
      "Hello Makayla, Hope you enjoy the game!\n",
      "Hello Shaq, Hope you enjoy the game!\n",
      "Hello Tom, Hope you enjoy the game!\n"
     ]
    }
   ],
   "source": [
    "friends = ['Creator', 'Sean', 'Jay', 'Makayla', 'Shaq', 'Tom']\n",
    "for friend in friends:\n",
    "    if friend == 'Creator':\n",
    "        print('I am the creator of this app')\n",
    "    else:\n",
    "        print('Hello '+friend+', Hope you enjoy the game!')"
   ]
  },
  {
   "cell_type": "markdown",
   "metadata": {
    "collapsed": false
   },
   "source": [
    "## Question 11"
   ]
  },
  {
   "cell_type": "code",
   "execution_count": 15,
   "metadata": {
    "collapsed": false
   },
   "outputs": [
    {
     "name": "stdout",
     "output_type": "stream",
     "text": [
      "first_name : Tom\n",
      "last_name : Hicks\n",
      "age : 19\n",
      "city : New York\n"
     ]
    }
   ],
   "source": [
    "person = {'first_name':'Tom','last_name':'Hicks','age':19,'city':'New York'}\n",
    "for key, value in person.items():\n",
    "    print(key+\" : \"+str(value))"
   ]
  },
  {
   "cell_type": "markdown",
   "metadata": {
    "collapsed": false
   },
   "source": [
    "## Question 12"
   ]
  },
  {
   "cell_type": "code",
   "execution_count": 16,
   "metadata": {
    "collapsed": false
   },
   "outputs": [
    {
     "name": "stdout",
     "output_type": "stream",
     "text": [
      "Nick's favourite number is 4\n",
      "Tom's favourite number is 1\n",
      "Jerry's favourite number is 2\n",
      "Messi's favourite number is 10\n",
      "Jordan's favourite number is 23\n"
     ]
    }
   ],
   "source": [
    "fav_num_dict = {\"Nick\":4, \"Tom\":1,\"Jerry\":2, \"Messi\":10, \"Jordan\":23}\n",
    "for name, fav_num in fav_num_dict.items():\n",
    "    print(name+\"'s favourite number is \"+str(fav_num))"
   ]
  },
  {
   "cell_type": "markdown",
   "metadata": {
    "collapsed": false
   },
   "source": [
    "## Question 13"
   ]
  },
  {
   "cell_type": "code",
   "execution_count": 17,
   "metadata": {
    "collapsed": false
   },
   "outputs": [
    {
     "name": "stdout",
     "output_type": "stream",
     "text": [
      "The Congo River runs through Congo\n",
      "The Nile runs through Egypt\n",
      "The Zhujiang runs through China\n",
      "\n",
      "Rivers:\n",
      "Congo River\n",
      "Nile\n",
      "Zhujiang\n",
      "\n",
      "Countries:\n",
      "Congo\n",
      "Egypt\n",
      "China\n"
     ]
    }
   ],
   "source": [
    "rivers = {'Congo River':'Congo', 'Nile':'Egypt', 'Zhujiang':'China'}\n",
    "for river, country in rivers.items():\n",
    "    print('The '+ river +' runs through '+country)\n",
    "print('\\nRivers:')\n",
    "for river in rivers.keys():\n",
    "    print(river)\n",
    "print('\\nCountries:')\n",
    "for country in rivers.values():\n",
    "    print(country)"
   ]
  },
  {
   "cell_type": "markdown",
   "metadata": {
    "collapsed": false
   },
   "source": [
    "## Question 14"
   ]
  },
  {
   "cell_type": "code",
   "execution_count": 18,
   "metadata": {
    "collapsed": false
   },
   "outputs": [
    {
     "name": "stdout",
     "output_type": "stream",
     "text": [
      "first_name : Tom\n",
      "last_name : Hicks\n",
      "age : 19\n",
      "city : New York\n",
      "\n",
      "first_name : Jermaine\n",
      "last_name : Cole\n",
      "age : 35\n",
      "city : Apex\n",
      "\n",
      "first_name : Kendrick\n",
      "last_name : Lamar\n",
      "age : 33\n",
      "city : Los Angeles\n",
      "\n"
     ]
    }
   ],
   "source": [
    "#Guessing question meant 11 instead of 12\n",
    "person1 = {'first_name':'Tom','last_name':'Hicks','age':19,'city':'New York'}\n",
    "person2 = {'first_name':'Jermaine','last_name':'Cole','age':35,'city':'Apex'}\n",
    "person3 = {'first_name':'Kendrick','last_name':'Lamar','age':33,'city':'Los Angeles'}\n",
    "people = [person1, person2, person3]\n",
    "for person in people:\n",
    "    for key, value in person.items():\n",
    "        print(key+\" : \"+str(value))\n",
    "    print()"
   ]
  },
  {
   "cell_type": "code",
   "execution_count": 0,
   "metadata": {
    "collapsed": false
   },
   "outputs": [
   ],
   "source": [
   ]
  }
 ],
 "metadata": {
  "kernelspec": {
   "display_name": "Python 3 (system-wide)",
   "language": "python",
   "metadata": {
    "cocalc": {
     "description": "Python 3 programming language",
     "priority": 100,
     "url": "https://www.python.org/"
    }
   },
   "name": "python3",
   "resource_dir": "/ext/jupyter/kernels/python3"
  },
  "language_info": {
   "codemirror_mode": {
    "name": "ipython",
    "version": 3
   },
   "file_extension": ".py",
   "mimetype": "text/x-python",
   "name": "python",
   "nbconvert_exporter": "python",
   "pygments_lexer": "ipython3",
   "version": "3.8.5"
  }
 },
 "nbformat": 4,
 "nbformat_minor": 4
}