{
 "cells": [
  {
   "cell_type": "markdown",
   "metadata": {
    "collapsed": false
   },
   "source": [
    "# Question 1"
   ]
  },
  {
   "cell_type": "code",
   "execution_count": 1,
   "metadata": {
    "collapsed": false
   },
   "outputs": [
    {
     "name": "stdout",
     "output_type": "stream",
     "text": [
      "The food at The Krusty Krab is good\n",
      "The food at Gusteau's is good\n",
      "The food at KFC is good\n",
      "\n",
      "I like the krabby patties at The Krusty Krab. The tropical smoothies at Gusteau's are very good. KFC's fried chicken is very tasty.\n"
     ]
    }
   ],
   "source": [
    "resturants = [\"The Krusty Krab\", \"Gusteau's\", \"KFC\"] # favourite resturants\n",
    "for resturant in resturants:\n",
    "    print(\"The food at \"+resturant+\" is good\")\n",
    "#part B\n",
    "print(\"\\nI like the krabby patties at \"+resturants[0]+\". The tropical smoothies at \"+resturants[1]+\" are very good. \"+resturants[2]+\"'s fried chicken is very tasty.\")\n"
   ]
  },
  {
   "cell_type": "markdown",
   "metadata": {
    "collapsed": false
   },
   "source": [
    "# Question 2"
   ]
  },
  {
   "cell_type": "code",
   "execution_count": 1,
   "metadata": {
    "collapsed": false
   },
   "outputs": [
    {
     "name": "stdout",
     "output_type": "stream",
     "text": [
      "NEVER gets me motivated\n",
      "Change gets me motivated\n",
      "Tings gets me motivated\n",
      "Ricky Millions gets me motivated\n",
      "\n",
      "NEVER is by JID,Change is by J.Cole, Tings is by Baby Smoove and Ricky Millions is by Smino\n"
     ]
    }
   ],
   "source": [
    "songs = [\"NEVER\", \"Change\", \"Tings\", \"Ricky Millions\"]\n",
    "for song in songs:\n",
    "    print(song+\" gets me motivated\")\n",
    "print(\"\\n\"+songs[0]+\" is by JID,\"+songs[1]+\" is by J.Cole, \"+songs[2]+\" is by Baby Smoove and \"+songs[3]+\" is by Smino\" )\n"
   ]
  },
  {
   "cell_type": "markdown",
   "metadata": {
    "collapsed": false
   },
   "source": [
    "# Question 3"
   ]
  },
  {
   "cell_type": "code",
   "execution_count": 2,
   "metadata": {
    "collapsed": false
   },
   "outputs": [
    {
     "name": "stdout",
     "output_type": "stream",
     "text": [
      "The first two songs inside my music list are: ['NEVER', 'Change']\n",
      "One item from the middle of my music list is: ['Change']\n",
      "The last two songs inside my music list are: ['Tings', 'Ricky Millions']\n"
     ]
    }
   ],
   "source": [
    "print(\"The first two songs inside my music list are: \"+str(songs[0:2]))\n",
    "print(\"One item from the middle of my music list is: \"+str(songs[1:2]))\n",
    "print(\"The last two songs inside my music list are: \"+str(songs[-2:]))"
   ]
  },
  {
   "cell_type": "markdown",
   "metadata": {
    "collapsed": false
   },
   "source": [
    "# Question 4"
   ]
  },
  {
   "cell_type": "code",
   "execution_count": 4,
   "metadata": {
    "collapsed": false
   },
   "outputs": [
    {
     "name": "stdout",
     "output_type": "stream",
     "text": [
      "My favourite resturants are: \n",
      "The Krusty Krab\n",
      "Gusteau's\n",
      "KFC\n",
      "Chefette\n",
      "Champers\n",
      "\n",
      "\n",
      "My mom’s favourite restaurants are: \n",
      "The Krusty Krab\n",
      "Gusteau's\n",
      "KFC\n",
      "Bob's Burgers\n"
     ]
    }
   ],
   "source": [
    "resturants = [\"The Krusty Krab\", \"Gusteau's\", \"KFC\"]\n",
    "Moms_Resturants = [\"The Krusty Krab\", \"Gusteau's\", \"KFC\"] # copy of resturants\n",
    "\n",
    "resturants.append(\"Chefette\")\n",
    "resturants.append(\"Champers\")\n",
    "\n",
    "Moms_Resturants.append(\"Bob's Burgers\")\n",
    "\n",
    "print(\"My favourite resturants are: \")\n",
    "for resturant in resturants:\n",
    "    print(resturant)\n",
    "print(\"\\n\")\n",
    "print(\"My mom’s favourite restaurants are: \")\n",
    "for resturant in Moms_Resturants:\n",
    "    print(resturant)\n"
   ]
  },
  {
   "cell_type": "markdown",
   "metadata": {
    "collapsed": false
   },
   "source": [
    "# Question 5"
   ]
  },
  {
   "cell_type": "code",
   "execution_count": 5,
   "metadata": {
    "collapsed": false
   },
   "outputs": [
    {
     "name": "stdout",
     "output_type": "stream",
     "text": [
      "58\n",
      "59\n",
      "60\n",
      "61\n",
      "62\n",
      "63\n",
      "64\n",
      "65\n",
      "66\n",
      "67\n",
      "68\n",
      "69\n",
      "70\n",
      "71\n",
      "72\n",
      "73\n",
      "74\n",
      "75\n"
     ]
    }
   ],
   "source": [
    "for numbers in range(58,76): #range between 57 and 75. 58 is between\n",
    "    print(numbers)"
   ]
  },
  {
   "cell_type": "markdown",
   "metadata": {
    "collapsed": false
   },
   "source": [
    "# Question 6"
   ]
  },
  {
   "cell_type": "code",
   "execution_count": 6,
   "metadata": {
    "collapsed": false
   },
   "outputs": [
    {
     "name": "stdout",
     "output_type": "stream",
     "text": [
      "1\n",
      "2\n",
      "3\n",
      "4\n",
      "5\n",
      "6\n",
      "7\n",
      "8\n",
      "9\n",
      "10\n",
      "11\n",
      "12\n",
      "13\n",
      "14\n",
      "15\n",
      "16\n",
      "17\n",
      "18\n",
      "19\n",
      "20\n",
      "21\n",
      "22\n",
      "23\n",
      "24\n",
      "25\n",
      "26\n",
      "27\n",
      "28\n",
      "29\n",
      "30\n",
      "31\n",
      "32\n",
      "33\n",
      "34\n",
      "35\n"
     ]
    }
   ],
   "source": [
    "nums = [num for num in range(1,36)]\n",
    "for num in nums:\n",
    "    print(num)"
   ]
  },
  {
   "cell_type": "markdown",
   "metadata": {
    "collapsed": false
   },
   "source": [
    "# Question 7"
   ]
  },
  {
   "cell_type": "code",
   "execution_count": 7,
   "metadata": {
    "collapsed": false
   },
   "outputs": [
    {
     "name": "stdout",
     "output_type": "stream",
     "text": [
      "58\n",
      "60\n",
      "62\n",
      "64\n",
      "66\n",
      "68\n",
      "70\n",
      "72\n",
      "74\n"
     ]
    }
   ],
   "source": [
    "for numbers in range(58,76,2): #range between 57 and 75\n",
    "    print(numbers)"
   ]
  },
  {
   "cell_type": "markdown",
   "metadata": {
    "collapsed": false
   },
   "source": [
    "# Question 8 + 9"
   ]
  },
  {
   "cell_type": "code",
   "execution_count": 8,
   "metadata": {
    "collapsed": false,
    "scrolled": true
   },
   "outputs": [
    {
     "name": "stdout",
     "output_type": "stream",
     "text": [
      "1\n",
      "3375\n",
      "7200.0\n"
     ]
    }
   ],
   "source": [
    "cubes = [x**3 for x in range(1,16)]\n",
    "print(min(cubes))\n",
    "print(max(cubes))\n",
    "print(sum(cubes)/2)"
   ]
  },
  {
   "cell_type": "markdown",
   "metadata": {
    "collapsed": false
   },
   "source": [
    "# Question 10"
   ]
  },
  {
   "cell_type": "code",
   "execution_count": 9,
   "metadata": {
    "collapsed": false
   },
   "outputs": [
    {
     "name": "stdout",
     "output_type": "stream",
     "text": [
      "334.5763\n"
     ]
    }
   ],
   "source": [
    "float = [3.4764,94.15,0.2309,236.719]\n",
    "sum = 0\n",
    "for number in float:\n",
    "    sum += number\n",
    "print(sum)"
   ]
  },
  {
   "cell_type": "code",
   "execution_count": 0,
   "metadata": {
    "collapsed": false
   },
   "outputs": [
   ],
   "source": [
   ]
  }
 ],
 "metadata": {
  "kernelspec": {
   "display_name": "Python 3 (system-wide)",
   "language": "python",
   "metadata": {
    "cocalc": {
     "description": "Python 3 programming language",
     "priority": 100,
     "url": "https://www.python.org/"
    }
   },
   "name": "python3",
   "resource_dir": "/ext/jupyter/kernels/python3"
  },
  "language_info": {
   "codemirror_mode": {
    "name": "ipython",
    "version": 3
   },
   "file_extension": ".py",
   "mimetype": "text/x-python",
   "name": "python",
   "nbconvert_exporter": "python",
   "pygments_lexer": "ipython3",
   "version": "3.8.5"
  }
 },
 "nbformat": 4,
 "nbformat_minor": 4
}