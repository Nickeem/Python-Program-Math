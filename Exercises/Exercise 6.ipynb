{
 "cells": [
  {
   "cell_type": "markdown",
   "metadata": {
    "collapsed": false
   },
   "source": [
    "# Question 1"
   ]
  },
  {
   "cell_type": "code",
   "execution_count": 1,
   "metadata": {
    "collapsed": false
   },
   "outputs": [
    {
     "name": "stdout",
     "output_type": "stream",
     "text": [
      "I am 18 years old\n"
     ]
    }
   ],
   "source": [
    "age = 18\n",
    "print(\"I am \"+ str(age) +\" years old\")"
   ]
  },
  {
   "cell_type": "markdown",
   "metadata": {
    "collapsed": false
   },
   "source": [
    "# Question 2"
   ]
  },
  {
   "cell_type": "code",
   "execution_count": 2,
   "metadata": {
    "collapsed": false
   },
   "outputs": [
    {
     "name": "stdout",
     "output_type": "stream",
     "text": [
      "Nyeem\n",
      "Jack\n",
      "Jill\n"
     ]
    }
   ],
   "source": [
    "family = [\"Nyeem\", \"Jack\", \"Jill\"]\n",
    "print(family[0])\n",
    "print(family[1])\n",
    "print(family[2])"
   ]
  },
  {
   "cell_type": "markdown",
   "metadata": {
    "collapsed": false
   },
   "source": [
    "# Question 3"
   ]
  },
  {
   "cell_type": "code",
   "execution_count": 3,
   "metadata": {
    "collapsed": false
   },
   "outputs": [
    {
     "name": "stdout",
     "output_type": "stream",
     "text": [
      "Nyeem lives in Barbados\n",
      "Jack lives in Barbados\n",
      "Jill lives in Barbados\n"
     ]
    }
   ],
   "source": [
    "print(family[0]+\" lives in Barbados\")\n",
    "print(family[1]+\" lives in Barbados\")\n",
    "print(family[2]+\" lives in Barbados\")"
   ]
  },
  {
   "cell_type": "markdown",
   "metadata": {
    "collapsed": false
   },
   "source": [
    "# Question 4"
   ]
  },
  {
   "cell_type": "code",
   "execution_count": 4,
   "metadata": {
    "collapsed": false
   },
   "outputs": [
    {
     "name": "stdout",
     "output_type": "stream",
     "text": [
      "Grapefruit lowers cholestorol levels\n",
      "Pineapple is rich in vitamin C and manganese.\n",
      "Apple contains a high amount of fiber, vitamin C, potassium and vitamin K\n"
     ]
    }
   ],
   "source": [
    "fav_fruit = [\"Grapefruit\", \"Pineapple\", \"Apple\"]\n",
    "print(fav_fruit[0]+\" lowers cholestorol levels\")\n",
    "print(fav_fruit[1]+\" is rich in vitamin C and manganese.\")\n",
    "print(fav_fruit[2]+\" contains a high amount of fiber, vitamin C, potassium and vitamin K\")"
   ]
  },
  {
   "cell_type": "markdown",
   "metadata": {
    "collapsed": false
   },
   "source": [
    "# Question 5"
   ]
  },
  {
   "cell_type": "code",
   "execution_count": 5,
   "metadata": {
    "collapsed": false
   },
   "outputs": [
    {
     "name": "stdout",
     "output_type": "stream",
     "text": [
      "The venue of the party has been changed to Oistins.\n",
      "\n",
      "\t\tSaba\n",
      "\n",
      "JID you are invitred to my birthday party.\n",
      "Smino you are invitred to my birthday party.\n",
      "Dave you are invitred to my birthday party.\n",
      "Saba you are invitred to my birthday party.\n"
     ]
    }
   ],
   "source": [
    "party = [\"JID\", \"Smino\", \"Dave\", \"Saba\"]\n",
    "\n",
    "print(\"The venue of the party has been changed to Oistins.\\n\")\n",
    "print(\"\\t\\t\"+party[3]+\"\\n\") # friend that can't attend party\n",
    "\n",
    "\n",
    "print(party[0]+ \" you are invitred to my birthday party.\")\n",
    "print(party[1]+ \" you are invitred to my birthday party.\")\n",
    "print(party[2]+ \" you are invitred to my birthday party.\")\n",
    "print(party[3]+ \" you are invitred to my birthday party.\")\n"
   ]
  },
  {
   "cell_type": "markdown",
   "metadata": {
    "collapsed": false
   },
   "source": [
    "# Question 6"
   ]
  },
  {
   "cell_type": "code",
   "execution_count": 6,
   "metadata": {
    "collapsed": false
   },
   "outputs": [
    {
     "name": "stdout",
     "output_type": "stream",
     "text": [
      "JID you are invitred to my birthday party.\n",
      "Smino you are invitred to my birthday party.\n",
      "Dave you are invitred to my birthday party.\n",
      "Kendrick you are invitred to my birthday party.\n"
     ]
    }
   ],
   "source": [
    "party[3] = \"Kendrick\" # change name in list\n",
    "print(party[0]+ \" you are invitred to my birthday party.\") # sending newe invitations\n",
    "print(party[1]+ \" you are invitred to my birthday party.\")\n",
    "print(party[2]+ \" you are invitred to my birthday party.\")\n",
    "print(party[3]+ \" you are invitred to my birthday party.\")"
   ]
  },
  {
   "cell_type": "markdown",
   "metadata": {
    "collapsed": false
   },
   "source": [
    "# Question 7"
   ]
  },
  {
   "cell_type": "code",
   "execution_count": 7,
   "metadata": {
    "collapsed": false
   },
   "outputs": [
    {
     "name": "stdout",
     "output_type": "stream",
     "text": [
      "Frank you are invited to my birtday party\n",
      "JID you are invited to my birtday party\n",
      "Rocky you are invited to my birtday party\n",
      "Smino you are invited to my birtday party\n",
      "Dave you are invited to my birtday party\n",
      "Kendrick you are invited to my birtday party\n",
      "Jay you are invited to my birtday party\n",
      "\n",
      "The venue relocated me to a smaller room and I have to remove some of you from the list\n"
     ]
    }
   ],
   "source": [
    "party.insert(0, \"Frank\")\n",
    "party.insert(int(len(party)/2), \"Rocky\")# inserting list member in middle\n",
    "party.append(\"Jay\")\n",
    "\n",
    "#send new invitatioins\n",
    "print(party[0]+ \" you are invited to my birtday party\")\n",
    "print(party[1]+ \" you are invited to my birtday party\")\n",
    "print(party[2]+ \" you are invited to my birtday party\")\n",
    "print(party[3]+ \" you are invited to my birtday party\")\n",
    "print(party[4]+ \" you are invited to my birtday party\")\n",
    "print(party[5]+ \" you are invited to my birtday party\")\n",
    "print(party[6]+ \" you are invited to my birtday party\")\n",
    "\n",
    "print(\"\\nThe venue relocated me to a smaller room and I have to remove some of you from the list\")\n",
    "\n"
   ]
  },
  {
   "cell_type": "markdown",
   "metadata": {
    "collapsed": false
   },
   "source": [
    "# Question 8"
   ]
  },
  {
   "cell_type": "code",
   "execution_count": 8,
   "metadata": {
    "collapsed": false
   },
   "outputs": [
    {
     "name": "stdout",
     "output_type": "stream",
     "text": [
      "I am sorry Frank you can’t attend the party anymore due to space\n",
      "I am sorry Rocky you can’t attend the party anymore due to space\n",
      "I am sorry Jay you can’t attend the party anymore due to space\n",
      "\n",
      "\n",
      "JID you are still invited to the party\n",
      "Smino you are still invited to the party\n",
      "Dave you are still invited to the party\n",
      "Kendrick you are still invited to the party\n"
     ]
    },
    {
     "data": {
      "text/plain": [
       "[]"
      ]
     },
     "execution_count": 8,
     "metadata": {
     },
     "output_type": "execute_result"
    }
   ],
   "source": [
    "guest1 = party.pop(0) #guest removed\n",
    "guest2 = party.pop(1) #guest removed\n",
    "guest3 = party.pop(-1) #guest removed\n",
    "\n",
    "print(\"I am sorry \"+guest1+\" you can’t attend the party anymore due to space\")\n",
    "print(\"I am sorry \"+guest2+\" you can’t attend the party anymore due to space\")\n",
    "print(\"I am sorry \"+guest3+\" you can’t attend the party anymore due to space\")\n",
    "\n",
    "#guest still invited\n",
    "print(\"\\n\")\n",
    "\n",
    "print(party[0]+\" you are still invited to the party\")\n",
    "print(party[1]+\" you are still invited to the party\")\n",
    "print(party[2]+\" you are still invited to the party\")\n",
    "print(party[3]+\" you are still invited to the party\")\n",
    "\n",
    "del party[0] # deleting list objects\n",
    "del party[0] # only 0 is used because each time objest is deleted-\n",
    "del party[0] # - index is changed\n",
    "del party[0]\n",
    "party # empty list"
   ]
  },
  {
   "cell_type": "code",
   "execution_count": 0,
   "metadata": {
    "collapsed": false
   },
   "outputs": [
   ],
   "source": [
   ]
  }
 ],
 "metadata": {
  "kernelspec": {
   "display_name": "Python 3 (system-wide)",
   "language": "python",
   "metadata": {
    "cocalc": {
     "description": "Python 3 programming language",
     "priority": 100,
     "url": "https://www.python.org/"
    }
   },
   "name": "python3",
   "resource_dir": "/ext/jupyter/kernels/python3"
  },
  "language_info": {
   "codemirror_mode": {
    "name": "ipython",
    "version": 3
   },
   "file_extension": ".py",
   "mimetype": "text/x-python",
   "name": "python",
   "nbconvert_exporter": "python",
   "pygments_lexer": "ipython3",
   "version": "3.8.5"
  }
 },
 "nbformat": 4,
 "nbformat_minor": 4
}