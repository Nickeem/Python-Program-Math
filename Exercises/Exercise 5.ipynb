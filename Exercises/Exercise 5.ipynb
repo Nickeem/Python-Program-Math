{
 "cells": [
  {
   "cell_type": "markdown",
   "metadata": {
    "collapsed": false
   },
   "source": [
    "# Nickeem Payne-Deacon\n",
    "# Question 1"
   ]
  },
  {
   "cell_type": "code",
   "execution_count": 1,
   "metadata": {
    "collapsed": false
   },
   "outputs": [
    {
     "name": "stdout",
     "output_type": "stream",
     "text": [
      "The sky is clear today.\n"
     ]
    }
   ],
   "source": [
    "print(\"The sky is clear today.\")"
   ]
  },
  {
   "cell_type": "markdown",
   "metadata": {
    "collapsed": false
   },
   "source": [
    "# Question 2\n"
   ]
  },
  {
   "cell_type": "code",
   "execution_count": 2,
   "metadata": {
    "collapsed": false
   },
   "outputs": [
    {
     "name": "stdout",
     "output_type": "stream",
     "text": [
      "The sky is clear today\n"
     ]
    }
   ],
   "source": [
    "note = \"The sky is clear today\"\n",
    "print(note)"
   ]
  },
  {
   "cell_type": "markdown",
   "metadata": {
    "collapsed": false
   },
   "source": [
    "# Question 3"
   ]
  },
  {
   "cell_type": "code",
   "execution_count": 3,
   "metadata": {
    "collapsed": false
   },
   "outputs": [
    {
     "name": "stdout",
     "output_type": "stream",
     "text": [
      "The sky isn't as clear today\n"
     ]
    }
   ],
   "source": [
    "note = \"The sky isn't as clear today\"\n",
    "print(note)"
   ]
  },
  {
   "cell_type": "markdown",
   "metadata": {
    "collapsed": false
   },
   "source": [
    "# Question 4"
   ]
  },
  {
   "cell_type": "code",
   "execution_count": 4,
   "metadata": {
    "collapsed": false
   },
   "outputs": [
    {
     "name": "stdout",
     "output_type": "stream",
     "text": [
      "Hello kya, what is your plan for the day?\n"
     ]
    }
   ],
   "source": [
    "name = \"kya\"\n",
    "print(\"Hello \"+name+\", what is your plan for the day?\")"
   ]
  },
  {
   "cell_type": "markdown",
   "metadata": {
    "collapsed": false
   },
   "source": [
    "# Question 5 "
   ]
  },
  {
   "cell_type": "code",
   "execution_count": 5,
   "metadata": {
    "collapsed": false
   },
   "outputs": [
    {
     "name": "stdout",
     "output_type": "stream",
     "text": [
      "Kya\n"
     ]
    }
   ],
   "source": [
    "print(name.title())"
   ]
  },
  {
   "cell_type": "code",
   "execution_count": 6,
   "metadata": {
    "collapsed": false
   },
   "outputs": [
    {
     "name": "stdout",
     "output_type": "stream",
     "text": [
      "KYA\n"
     ]
    }
   ],
   "source": [
    "print(name.upper())"
   ]
  },
  {
   "cell_type": "code",
   "execution_count": 7,
   "metadata": {
    "collapsed": false
   },
   "outputs": [
    {
     "name": "stdout",
     "output_type": "stream",
     "text": [
      "kya\n"
     ]
    }
   ],
   "source": [
    "print(name.lower())"
   ]
  },
  {
   "cell_type": "markdown",
   "metadata": {
    "collapsed": false
   },
   "source": [
    "# Question 6"
   ]
  },
  {
   "cell_type": "code",
   "execution_count": 8,
   "metadata": {
    "collapsed": false
   },
   "outputs": [
    {
     "name": "stdout",
     "output_type": "stream",
     "text": [
      "Kya Rox is tall\n"
     ]
    }
   ],
   "source": [
    "l_name = \"rox\"\n",
    "full_name = name+\" \"+l_name\n",
    "print(full_name.title()+\" is tall\")"
   ]
  },
  {
   "cell_type": "markdown",
   "metadata": {
    "collapsed": false
   },
   "source": [
    "# Question 7"
   ]
  },
  {
   "cell_type": "code",
   "execution_count": 9,
   "metadata": {
    "collapsed": false
   },
   "outputs": [
    {
     "name": "stdout",
     "output_type": "stream",
     "text": [
      "36\n",
      "36\n",
      "36\n",
      "36.0\n",
      "36\n"
     ]
    }
   ],
   "source": [
    "print(18+18)\n",
    "print(48-12)\n",
    "print(12*3)\n",
    "print(180/5)\n",
    "print(6**2)"
   ]
  },
  {
   "cell_type": "markdown",
   "metadata": {
    "collapsed": false
   },
   "source": [
    "# Question 8"
   ]
  },
  {
   "cell_type": "code",
   "execution_count": 10,
   "metadata": {
    "collapsed": false
   },
   "outputs": [
    {
     "name": "stdout",
     "output_type": "stream",
     "text": [
      "3.0\n",
      "-6.0\n",
      "2.0281149816474726\n",
      "2.718281828459045\n",
      "3.0\n"
     ]
    }
   ],
   "source": [
    "import math\n",
    "print(3*math.log(math.e))\n",
    "print(6*math.cos(math.pi))\n",
    "print(math.e**(math.sin((3*math.pi)/4)))\n",
    "print(math.sqrt(math.e**2))\n",
    "print(math.log10(1000))"
   ]
  },
  {
   "cell_type": "markdown",
   "metadata": {
    "collapsed": false
   },
   "source": [
    "# Question 9"
   ]
  },
  {
   "cell_type": "code",
   "execution_count": 14,
   "metadata": {
    "collapsed": false
   },
   "outputs": [
    {
     "name": "stdout",
     "output_type": "stream",
     "text": [
      "The circumference is 50.26548245743669and the area is 201.06192982974676\n"
     ]
    }
   ],
   "source": [
    "from math import pi\n",
    "diameter = 16\n",
    "radius = diameter/2\n",
    "area = pi*(radius**2)\n",
    "circumference = 2*pi*radius\n",
    "print(\"The circumference is \"+ str(circumference) +\"and the area is \"+str(area))"
   ]
  },
  {
   "cell_type": "markdown",
   "metadata": {
    "collapsed": false
   },
   "source": [
    "# Question 10, 11, 12"
   ]
  },
  {
   "cell_type": "code",
   "execution_count": 12,
   "metadata": {
    "collapsed": false
   },
   "outputs": [
    {
     "name": "stdout",
     "output_type": "stream",
     "text": [
      "b length = 7.119154591888872cm\n",
      "Angle C= 18.635035883825097\n",
      "A length= 9.056905684624708cm\n"
     ]
    }
   ],
   "source": [
    "from math import sin, cos, asin, degrees, radians, sqrt\n",
    "\n",
    "b = (8/sin(radians(67)))*sin(radians(55))\n",
    "C = degrees(asin(((sin(radians(34))*8)/14)))\n",
    "a = sqrt((8**2 + 5**2)-(cos(radians(85))*(2*8*5)))\n",
    "\n",
    "print(\"b length = \"+str(b)+\"cm\")\n",
    "print(\"Angle C= \"+str(C))\n",
    "print(\"A length= \"+str(a)+\"cm\")"
   ]
  }
 ],
 "metadata": {
  "kernelspec": {
   "display_name": "Python 3 (system-wide)",
   "language": "python",
   "metadata": {
    "cocalc": {
     "description": "Python 3 programming language",
     "priority": 100,
     "url": "https://www.python.org/"
    }
   },
   "name": "python3",
   "resource_dir": "/ext/jupyter/kernels/python3"
  },
  "language_info": {
   "codemirror_mode": {
    "name": "ipython",
    "version": 3
   },
   "file_extension": ".py",
   "mimetype": "text/x-python",
   "name": "python",
   "nbconvert_exporter": "python",
   "pygments_lexer": "ipython3",
   "version": "3.8.5"
  }
 },
 "nbformat": 4,
 "nbformat_minor": 4
}